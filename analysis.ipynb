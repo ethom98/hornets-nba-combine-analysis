{
 "cells": [
  {
   "cell_type": "markdown",
   "id": "b1d60168",
   "metadata": {},
   "source": [
    "# 🏀 NBA Combine Metrics vs Career Performance"
   ]
  },
  {
   "cell_type": "markdown",
   "id": "22678548",
   "metadata": {},
   "source": [
    "\n",
    "This notebook analyzes how NBA Draft Combine metrics relate to long-term NBA success and durability.\n",
    "\n",
    "We use:\n",
    "- **Box Plus/Minus (BPM)** to measure impact\n",
    "- **Games Played** and **True Shooting % (TS%)** to measure availability and efficiency\n",
    "\n",
    "Data was merged from:\n",
    "- NBA Combine metrics (Kaggle)\n",
    "- NBA career stats\n",
    "- Advanced BPM stats from Basketball Reference\n",
    "\n",
    "---\n"
   ]
  },
  {
   "cell_type": "code",
   "execution_count": null,
   "id": "89b1dbe3",
   "metadata": {},
   "outputs": [],
   "source": [
    "\n",
    "import pandas as pd\n",
    "import matplotlib.pyplot as plt\n",
    "import seaborn as sns\n"
   ]
  },
  {
   "cell_type": "code",
   "execution_count": null,
   "id": "304b129a",
   "metadata": {},
   "outputs": [],
   "source": [
    "\n",
    "# Load the datasets\n",
    "combine_df = pd.read_csv('Draft Combine - Kaggle.csv')\n",
    "career_df = pd.read_csv('all_seasons.csv')\n",
    "advanced_df = pd.read_csv('advanced.csv')\n",
    "\n",
    "# Convert Combine player names from 'Last, First' to 'First Last'\n",
    "def reformat_name(name):\n",
    "    parts = name.split(', ')\n",
    "    return f\"{parts[1]} {parts[0]}\".lower().strip() if len(parts) == 2 else name.lower().strip()\n",
    "\n",
    "combine_df['player_name'] = combine_df['PLAYER'].apply(reformat_name)\n",
    "career_df['player_name'] = career_df['player_name'].str.lower().str.strip()\n",
    "advanced_df['player_name'] = advanced_df['year-name'].str.extract(r'^\\d{4}-(.*)$')[0].str.lower().str.strip()\n",
    "\n",
    "# Select relevant columns\n",
    "combine_clean = combine_df[['player_name', 'YEAR', 'HGT', 'WNGSPN', 'STNDVERT', 'LANE', 'SPRINT']].copy()\n",
    "combine_clean.columns = ['player_name', 'draft_year', 'height', 'wingspan', 'vertical', 'lane_agility', 'sprint_time']\n",
    "\n",
    "career_clean = career_df[['player_name', 'gp', 'ts_pct', 'usg_pct']]\n",
    "advanced_clean = advanced_df[['player_name', 'BPM']]\n"
   ]
  },
  {
   "cell_type": "code",
   "execution_count": null,
   "id": "92462f42",
   "metadata": {},
   "outputs": [],
   "source": [
    "\n",
    "# Merge datasets by player_name\n",
    "merged_df = pd.merge(combine_clean, career_clean, on='player_name', how='inner')\n",
    "final_df = pd.merge(merged_df, advanced_clean, on='player_name', how='left')\n",
    "\n",
    "# Drop rows with missing key fields\n",
    "final_df.dropna(subset=['height', 'wingspan', 'vertical', 'lane_agility', 'sprint_time', \n",
    "                        'gp', 'ts_pct', 'usg_pct', 'BPM'], inplace=True)\n",
    "\n",
    "final_df.shape\n"
   ]
  },
  {
   "cell_type": "code",
   "execution_count": null,
   "id": "2f1e3a40",
   "metadata": {},
   "outputs": [],
   "source": [
    "\n",
    "# Correlation heatmap\n",
    "plt.figure(figsize=(10, 6))\n",
    "sns.heatmap(final_df[['height', 'wingspan', 'vertical', 'lane_agility', 'sprint_time', \n",
    "                      'gp', 'ts_pct', 'usg_pct', 'BPM']].corr(), annot=True, cmap='coolwarm')\n",
    "plt.title(\"Correlation Matrix: Combine Metrics vs Career Stats\")\n",
    "plt.tight_layout()\n",
    "plt.show()\n"
   ]
  },
  {
   "cell_type": "code",
   "execution_count": null,
   "id": "85867398",
   "metadata": {},
   "outputs": [],
   "source": [
    "\n",
    "# Wingspan vs BPM\n",
    "sns.regplot(data=final_df, x='wingspan', y='BPM')\n",
    "plt.title('Wingspan vs Box Plus/Minus (BPM)')\n",
    "plt.xlabel('Wingspan (inches)')\n",
    "plt.ylabel('BPM')\n",
    "plt.tight_layout()\n",
    "plt.show()\n"
   ]
  },
  {
   "cell_type": "code",
   "execution_count": null,
   "id": "27db7092",
   "metadata": {},
   "outputs": [],
   "source": [
    "\n",
    "# Lane Agility vs Games Played\n",
    "sns.regplot(data=final_df, x='lane_agility', y='gp', color='green')\n",
    "plt.title('Lane Agility vs Games Played')\n",
    "plt.xlabel('Lane Agility Time (seconds)')\n",
    "plt.ylabel('Career Games Played')\n",
    "plt.tight_layout()\n",
    "plt.show()\n"
   ]
  },
  {
   "cell_type": "code",
   "execution_count": null,
   "id": "ccdc3830",
   "metadata": {},
   "outputs": [],
   "source": [
    "\n",
    "# Vertical vs TS%\n",
    "sns.regplot(data=final_df, x='vertical', y='ts_pct', color='purple')\n",
    "plt.title('Vertical Jump vs True Shooting %')\n",
    "plt.xlabel('Standing Vertical (inches)')\n",
    "plt.ylabel('TS%')\n",
    "plt.tight_layout()\n",
    "plt.show()\n"
   ]
  }
 ],
 "metadata": {},
 "nbformat": 4,
 "nbformat_minor": 5
}
